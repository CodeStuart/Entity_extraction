{
 "cells": [
  {
   "cell_type": "code",
   "execution_count": 2,
   "metadata": {},
   "outputs": [],
   "source": [
    "sen = []\n",
    "with open(\"分句后的数据.txt\",\"r\",encoding='utf-8') as f:\n",
    "    for line in f:\n",
    "        sen.append(line)"
   ]
  },
  {
   "cell_type": "markdown",
   "metadata": {},
   "source": [
    "读取分句"
   ]
  },
  {
   "cell_type": "code",
   "execution_count": 3,
   "metadata": {},
   "outputs": [
    {
     "data": {
      "text/plain": [
       "126442"
      ]
     },
     "execution_count": 3,
     "metadata": {},
     "output_type": "execute_result"
    }
   ],
   "source": [
    "len(sen)"
   ]
  },
  {
   "cell_type": "code",
   "execution_count": 4,
   "metadata": {},
   "outputs": [],
   "source": [
    "person = []\n",
    "org = []\n",
    "other = []"
   ]
  },
  {
   "cell_type": "markdown",
   "metadata": {},
   "source": [
    "读取三个实体库"
   ]
  },
  {
   "cell_type": "code",
   "execution_count": 5,
   "metadata": {},
   "outputs": [],
   "source": [
    "person = []\n",
    "org = []\n",
    "other = []\n",
    "with open(\"person.txt\",\"r\",encoding='utf-8') as f:\n",
    "    for line in f:\n",
    "        person.append(line.replace('\\n',\"\"))\n",
    "with open(\"org.txt\",\"r\",encoding='utf-8') as f:\n",
    "    for line in f:\n",
    "        org.append(line.replace('\\n',\"\"))\n",
    "with open(\"other.txt\",\"r\",encoding='utf-8') as f:\n",
    "    for line in f:\n",
    "        other.append(line.replace('\\n',\"\"))"
   ]
  },
  {
   "cell_type": "code",
   "execution_count": 6,
   "metadata": {},
   "outputs": [],
   "source": [
    "person = list(set(person))\n",
    "org = list(set(org))\n",
    "other = list(set(other))"
   ]
  },
  {
   "cell_type": "markdown",
   "metadata": {},
   "source": [
    "数据回标"
   ]
  },
  {
   "cell_type": "code",
   "execution_count": 7,
   "metadata": {},
   "outputs": [],
   "source": [
    "sen_con = []\n",
    "sen_person = []\n",
    "person_list = []\n",
    "org_list = []\n",
    "other_list = []\n",
    "dex = 0\n",
    "for line in sen:\n",
    "    dex = 0\n",
    "    temp_person = []\n",
    "    temp_org = []\n",
    "    temp_other = []\n",
    "    for key in person:\n",
    "        if line.find(key) != -1:\n",
    "            dex = 1\n",
    "            temp_person.append(key)\n",
    "    for key in org:\n",
    "        if line.find(key) != -1:\n",
    "            dex = 1\n",
    "            temp_org.append(key)\n",
    "    for key in other:\n",
    "        if line.find(key) != -1:\n",
    "            dex = 1\n",
    "            temp_other.append(key)\n",
    "    if dex == 1:\n",
    "        s1 = ' '.join(temp_person)\n",
    "        s2 = ' '.join(temp_org)\n",
    "        s3 = ' '.join(temp_other)\n",
    "        if len(s1) == 0:\n",
    "            s1 = 'xxx'\n",
    "        if len(s2) == 0:\n",
    "            s2 = 'xxx'\n",
    "        if len(s3) == 0:\n",
    "            s3 = 'xxx'\n",
    "        person_list.append(s1)\n",
    "        org_list.append(s2)\n",
    "        other_list.append(s3)\n",
    "        sen_con.append(line)"
   ]
  },
  {
   "cell_type": "code",
   "execution_count": 10,
   "metadata": {},
   "outputs": [
    {
     "data": {
      "text/plain": [
       "78555"
      ]
     },
     "execution_count": 10,
     "metadata": {},
     "output_type": "execute_result"
    }
   ],
   "source": [
    "len(person_list)"
   ]
  },
  {
   "cell_type": "code",
   "execution_count": 11,
   "metadata": {},
   "outputs": [],
   "source": [
    "input_excel = []\n",
    "for i in range(len(person_list)):\n",
    "    temp = []\n",
    "    temp.append(person_list[i])\n",
    "    temp.append(org_list[i])\n",
    "    temp.append(other_list[i])\n",
    "    temp.append(sen_con[i])\n",
    "    input_excel.append(temp)"
   ]
  },
  {
   "cell_type": "markdown",
   "metadata": {},
   "source": [
    "写入excel"
   ]
  },
  {
   "cell_type": "code",
   "execution_count": 12,
   "metadata": {},
   "outputs": [],
   "source": [
    "import pandas as pd"
   ]
  },
  {
   "cell_type": "code",
   "execution_count": 13,
   "metadata": {},
   "outputs": [],
   "source": [
    "pd = df = pd.DataFrame(input_excel, columns=['person', 'org', 'other', 'sentence'])"
   ]
  },
  {
   "cell_type": "code",
   "execution_count": 14,
   "metadata": {},
   "outputs": [],
   "source": [
    "pd.to_excel(\"yq.xlsx\", index=False)"
   ]
  },
  {
   "cell_type": "code",
   "execution_count": null,
   "metadata": {},
   "outputs": [],
   "source": []
  }
 ],
 "metadata": {
  "kernelspec": {
   "display_name": "Python 3",
   "language": "python",
   "name": "python3"
  },
  "language_info": {
   "codemirror_mode": {
    "name": "ipython",
    "version": 3
   },
   "file_extension": ".py",
   "mimetype": "text/x-python",
   "name": "python",
   "nbconvert_exporter": "python",
   "pygments_lexer": "ipython3",
   "version": "3.6.8"
  }
 },
 "nbformat": 4,
 "nbformat_minor": 4
}
